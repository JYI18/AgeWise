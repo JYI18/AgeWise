{
 "cells": [
  {
   "cell_type": "code",
   "execution_count": null,
   "id": "ba1d9964-9de1-43b8-8d8f-51e89a79c561",
   "metadata": {},
   "outputs": [],
   "source": [
    "import pandas as pd\n",
    "\n",
    "# Load the CSV\n",
    "df = pd.read_csv('population_state.csv')\n",
    "\n",
    "# Quick preview\n",
    "print(df.shape)         # Check number of rows and columns\n",
    "print(df.columns)       # List all column names\n",
    "print(df.dtypes)        # Data types of each column\n",
    "df.head()               # Show first few rows\n",
    "\n",
    "# Clean column names\n",
    "df.columns = df.columns.str.lower().str.strip().str.replace(' ', '_')\n",
    "\n",
    "# Convert date to year\n",
    "df['year'] = pd.to_datetime(df['date']).dt.year\n",
    "df.drop(columns=['date'], inplace=True)\n",
    "\n",
    "# Filter out 'overall' age\n",
    "df = df[df['age'] != 'overall']\n",
    "\n",
    "# Convert data types\n",
    "df['population'] = df['population'].astype(int)\n",
    "df['sex'] = df['sex'].astype('category')\n",
    "df['ethnicity'] = df['ethnicity'].astype('category')\n",
    "df['state'] = df['state'].astype('category')\n",
    "df['age'] = df['age'].astype('category')\n",
    "\n",
    "\n",
    "# age>=60\n",
    "def is_elderly(age):\n",
    "    if '-' in age:\n",
    "        low, _ = age.split('-')\n",
    "        return int(low) >= 60\n",
    "    return False\n",
    "\n",
    "df['is_elderly'] = df['age'].apply(is_elderly)\n",
    "\n",
    "df.to_csv('preprocessed_population.csv', index=False)\n",
    "\n"
   ]
  }
 ],
 "metadata": {
  "kernelspec": {
   "display_name": "Python 3 (ipykernel)",
   "language": "python",
   "name": "python3"
  },
  "language_info": {
   "codemirror_mode": {
    "name": "ipython",
    "version": 3
   },
   "file_extension": ".py",
   "mimetype": "text/x-python",
   "name": "python",
   "nbconvert_exporter": "python",
   "pygments_lexer": "ipython3",
   "version": "3.12.4"
  }
 },
 "nbformat": 4,
 "nbformat_minor": 5
}
